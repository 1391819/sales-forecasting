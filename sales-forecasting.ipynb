{
 "cells": [
  {
   "cell_type": "markdown",
   "id": "e698d7de",
   "metadata": {
    "papermill": {
     "duration": 0.005696,
     "end_time": "2023-06-17T15:36:07.262328",
     "exception": false,
     "start_time": "2023-06-17T15:36:07.256632",
     "status": "completed"
    },
    "tags": []
   },
   "source": [
    "# <div style=\"color:white;display:fill;border-radius:5px;background-color:#9DCDD1;overflow:hidden\"><p style=\"padding:20px;color:white;overflow:hidden;font-size:100%;letter-spacing:0.5px;margin:0\"><b>1 | About</b></div>\n",
    "\n",
    "Sales prediction and data enrichment using the Catboost algorithm and Upgini. The goal is to forecast future sales for the next 3 months and determine whether enriching the data leads to an increase in model accuracy.\n",
    "\n",
    "[GitHub](https://github.com/1391819/sales-forecasting)\n",
    "\n",
    "## <div style=\"color:white;display:fill;border-radius:5px;background-color:#9DCDD1;overflow:hidden\"><p style=\"padding:20px;color:white;overflow:hidden;font-size:100%;letter-spacing:0.5px;margin:0\"><b>2 | Data overview</b></div>\n",
    "- Tabular data\n",
    "- 5 years' worth of product sales (19k samples)\n",
    "- 4 features:\n",
    "  - date, store_id, item_id, and sales\n",
    "- Sales data before 2017 will be used as training data (15213 samples), while everything older than 2017 will be our test data (3787 samples)\n",
    "- Limited information (i.e., only date and sales are useful) for our model to understand how to successfully predict future sales\n",
    "\n",
    "## <div style=\"color:white;display:fill;border-radius:5px;background-color:#9DCDD1;overflow:hidden\"><p style=\"padding:20px;color:white;overflow:hidden;font-size:100%;letter-spacing:0.5px;margin:0\"><b>3 | Stack</b></div>\n",
    "\n",
    "- Catboost: state-of-the-art gradient boosting on decision trees \n",
    "- Upgini: data enrichment given limited data \n",
    "  - used to automatically search through thousands of public data sources to find the most relevant features that work for the project\n"
   ]
  },
  {
   "cell_type": "markdown",
   "id": "d77c9c3b",
   "metadata": {
    "papermill": {
     "duration": 0.004456,
     "end_time": "2023-06-17T15:36:07.272021",
     "exception": false,
     "start_time": "2023-06-17T15:36:07.267565",
     "status": "completed"
    },
    "tags": []
   },
   "source": [
    "## <div style=\"color:white;display:fill;border-radius:5px;background-color:#9DCDD1;overflow:hidden\"><p style=\"padding:20px;color:white;overflow:hidden;font-size:100%;letter-spacing:0.5px;margin:0\"><b>4 | Exploratory Data Analysis</b></div>"
   ]
  },
  {
   "cell_type": "code",
   "execution_count": 1,
   "id": "70b82769",
   "metadata": {
    "_kg_hide-output": true,
    "execution": {
     "iopub.execute_input": "2023-06-17T15:36:07.283549Z",
     "iopub.status.busy": "2023-06-17T15:36:07.283029Z",
     "iopub.status.idle": "2023-06-17T15:36:21.499246Z",
     "shell.execute_reply": "2023-06-17T15:36:21.498035Z"
    },
    "papermill": {
     "duration": 14.225719,
     "end_time": "2023-06-17T15:36:21.502544",
     "exception": false,
     "start_time": "2023-06-17T15:36:07.276825",
     "status": "completed"
    },
    "tags": []
   },
   "outputs": [
    {
     "name": "stdout",
     "output_type": "stream",
     "text": [
      "\u001b[33mWARNING: Running pip as the 'root' user can result in broken permissions and conflicting behaviour with the system package manager. It is recommended to use a virtual environment instead: https://pip.pypa.io/warnings/venv\u001b[0m\u001b[33m\r\n",
      "\u001b[0m"
     ]
    }
   ],
   "source": [
    "!pip install -q upgini catboost"
   ]
  },
  {
   "cell_type": "code",
   "execution_count": 2,
   "id": "474b093a",
   "metadata": {
    "execution": {
     "iopub.execute_input": "2023-06-17T15:36:21.513945Z",
     "iopub.status.busy": "2023-06-17T15:36:21.513575Z",
     "iopub.status.idle": "2023-06-17T15:36:22.906454Z",
     "shell.execute_reply": "2023-06-17T15:36:22.905510Z"
    },
    "papermill": {
     "duration": 1.401167,
     "end_time": "2023-06-17T15:36:22.908738",
     "exception": false,
     "start_time": "2023-06-17T15:36:21.507571",
     "status": "completed"
    },
    "tags": []
   },
   "outputs": [
    {
     "data": {
      "text/html": [
       "<div>\n",
       "<style scoped>\n",
       "    .dataframe tbody tr th:only-of-type {\n",
       "        vertical-align: middle;\n",
       "    }\n",
       "\n",
       "    .dataframe tbody tr th {\n",
       "        vertical-align: top;\n",
       "    }\n",
       "\n",
       "    .dataframe thead th {\n",
       "        text-align: right;\n",
       "    }\n",
       "</style>\n",
       "<table border=\"1\" class=\"dataframe\">\n",
       "  <thead>\n",
       "    <tr style=\"text-align: right;\">\n",
       "      <th></th>\n",
       "      <th>date</th>\n",
       "      <th>store</th>\n",
       "      <th>item</th>\n",
       "      <th>sales</th>\n",
       "    </tr>\n",
       "  </thead>\n",
       "  <tbody>\n",
       "    <tr>\n",
       "      <th>0</th>\n",
       "      <td>2013-01-01</td>\n",
       "      <td>7</td>\n",
       "      <td>5</td>\n",
       "      <td>5</td>\n",
       "    </tr>\n",
       "    <tr>\n",
       "      <th>1</th>\n",
       "      <td>2013-01-01</td>\n",
       "      <td>4</td>\n",
       "      <td>9</td>\n",
       "      <td>19</td>\n",
       "    </tr>\n",
       "    <tr>\n",
       "      <th>2</th>\n",
       "      <td>2013-01-01</td>\n",
       "      <td>1</td>\n",
       "      <td>33</td>\n",
       "      <td>37</td>\n",
       "    </tr>\n",
       "    <tr>\n",
       "      <th>3</th>\n",
       "      <td>2013-01-01</td>\n",
       "      <td>3</td>\n",
       "      <td>41</td>\n",
       "      <td>14</td>\n",
       "    </tr>\n",
       "    <tr>\n",
       "      <th>4</th>\n",
       "      <td>2013-01-01</td>\n",
       "      <td>5</td>\n",
       "      <td>24</td>\n",
       "      <td>26</td>\n",
       "    </tr>\n",
       "  </tbody>\n",
       "</table>\n",
       "</div>"
      ],
      "text/plain": [
       "        date store item  sales\n",
       "0 2013-01-01     7    5      5\n",
       "1 2013-01-01     4    9     19\n",
       "2 2013-01-01     1   33     37\n",
       "3 2013-01-01     3   41     14\n",
       "4 2013-01-01     5   24     26"
      ]
     },
     "execution_count": 2,
     "metadata": {},
     "output_type": "execute_result"
    }
   ],
   "source": [
    "# imports \n",
    "from os.path import exists\n",
    "import pandas as pd\n",
    "\n",
    "# creating dataframe\n",
    "df_path = \"train.csv.zip\" if exists(\"train.csv.zip\") else \"https://github.com/upgini/upgini/raw/main/notebooks/train.csv.zip\"\n",
    "df = pd.read_csv(df_path)\n",
    "df = df.sample(n=19_000, random_state=0) # 19k samples\n",
    "\n",
    "# converting store and item features to strings (they are int initially)\n",
    "df[\"store\"] = df[\"store\"].astype(str)\n",
    "df[\"item\"] = df[\"item\"].astype(str)\n",
    "\n",
    "# converting date column to datetime pandas object\n",
    "df[\"date\"] = pd.to_datetime(df[\"date\"])\n",
    "\n",
    "# sorting values by date\n",
    "df.sort_values(\"date\", inplace=True)\n",
    "df.reset_index(inplace=True, drop=True)\n",
    "df.head()"
   ]
  },
  {
   "cell_type": "markdown",
   "id": "b58634a9",
   "metadata": {
    "papermill": {
     "duration": 0.004712,
     "end_time": "2023-06-17T15:36:22.918650",
     "exception": false,
     "start_time": "2023-06-17T15:36:22.913938",
     "status": "completed"
    },
    "tags": []
   },
   "source": [
    "## <div style=\"color:white;display:fill;border-radius:5px;background-color:#9DCDD1;overflow:hidden\"><p style=\"padding:20px;color:white;overflow:hidden;font-size:100%;letter-spacing:0.5px;margin:0\"><b>5 | Training</b></div>"
   ]
  },
  {
   "cell_type": "markdown",
   "id": "790ce46b",
   "metadata": {
    "papermill": {
     "duration": 0.004822,
     "end_time": "2023-06-17T15:36:22.928353",
     "exception": false,
     "start_time": "2023-06-17T15:36:22.923531",
     "status": "completed"
    },
    "tags": []
   },
   "source": [
    "### <b><span style='color:#58A2A8'>5.1</span> | Creating train and test splits</b>"
   ]
  },
  {
   "cell_type": "code",
   "execution_count": 3,
   "id": "174ad6a0",
   "metadata": {
    "execution": {
     "iopub.execute_input": "2023-06-17T15:36:22.939717Z",
     "iopub.status.busy": "2023-06-17T15:36:22.939403Z",
     "iopub.status.idle": "2023-06-17T15:36:22.948576Z",
     "shell.execute_reply": "2023-06-17T15:36:22.947687Z"
    },
    "papermill": {
     "duration": 0.017365,
     "end_time": "2023-06-17T15:36:22.950929",
     "exception": false,
     "start_time": "2023-06-17T15:36:22.933564",
     "status": "completed"
    },
    "tags": []
   },
   "outputs": [],
   "source": [
    "# splitting data into training and testing\n",
    "# data before 2017 = training, data after 2017 = training\n",
    "train = df[df[\"date\"] < \"2017-01-01\"] # 15213 samples for training\n",
    "test = df[df[\"date\"] >= \"2017-01-01\"] # 3787 samples for testing"
   ]
  },
  {
   "cell_type": "code",
   "execution_count": 4,
   "id": "0f8e5f07",
   "metadata": {
    "execution": {
     "iopub.execute_input": "2023-06-17T15:36:22.962427Z",
     "iopub.status.busy": "2023-06-17T15:36:22.961560Z",
     "iopub.status.idle": "2023-06-17T15:36:22.969787Z",
     "shell.execute_reply": "2023-06-17T15:36:22.968927Z"
    },
    "papermill": {
     "duration": 0.016053,
     "end_time": "2023-06-17T15:36:22.971838",
     "exception": false,
     "start_time": "2023-06-17T15:36:22.955785",
     "status": "completed"
    },
    "tags": []
   },
   "outputs": [],
   "source": [
    "# creating target feature for both training and testing datasets\n",
    "train_features = train.drop(columns=[\"sales\"])\n",
    "train_target = train[\"sales\"]\n",
    "\n",
    "test_features = test.drop(columns=[\"sales\"])\n",
    "test_target = test[\"sales\"]"
   ]
  },
  {
   "cell_type": "markdown",
   "id": "6e1afee4",
   "metadata": {
    "papermill": {
     "duration": 0.004656,
     "end_time": "2023-06-17T15:36:22.981623",
     "exception": false,
     "start_time": "2023-06-17T15:36:22.976967",
     "status": "completed"
    },
    "tags": []
   },
   "source": [
    "### <b><span style='color:#58A2A8'>5.2</span> | Data enrichment</b>"
   ]
  },
  {
   "cell_type": "code",
   "execution_count": 5,
   "id": "2fd1ef7a",
   "metadata": {
    "execution": {
     "iopub.execute_input": "2023-06-17T15:36:22.993053Z",
     "iopub.status.busy": "2023-06-17T15:36:22.992255Z",
     "iopub.status.idle": "2023-06-17T15:38:53.667242Z",
     "shell.execute_reply": "2023-06-17T15:38:53.665821Z"
    },
    "papermill": {
     "duration": 150.683318,
     "end_time": "2023-06-17T15:38:53.669818",
     "exception": false,
     "start_time": "2023-06-17T15:36:22.986500",
     "status": "completed"
    },
    "tags": []
   },
   "outputs": [
    {
     "data": {
      "text/html": [
       "<style type='text/css'>\n",
       ".datatable table.frame { margin-bottom: 0; }\n",
       ".datatable table.frame thead { border-bottom: none; }\n",
       ".datatable table.frame tr.coltypes td {  color: #FFFFFF;  line-height: 6px;  padding: 0 0.5em;}\n",
       ".datatable .bool    { background: #DDDD99; }\n",
       ".datatable .object  { background: #565656; }\n",
       ".datatable .int     { background: #5D9E5D; }\n",
       ".datatable .float   { background: #4040CC; }\n",
       ".datatable .str     { background: #CC4040; }\n",
       ".datatable .time    { background: #40CC40; }\n",
       ".datatable .row_index {  background: var(--jp-border-color3);  border-right: 1px solid var(--jp-border-color0);  color: var(--jp-ui-font-color3);  font-size: 9px;}\n",
       ".datatable .frame tbody td { text-align: left; }\n",
       ".datatable .frame tr.coltypes .row_index {  background: var(--jp-border-color0);}\n",
       ".datatable th:nth-child(2) { padding-left: 12px; }\n",
       ".datatable .hellipsis {  color: var(--jp-cell-editor-border-color);}\n",
       ".datatable .vellipsis {  background: var(--jp-layout-color0);  color: var(--jp-cell-editor-border-color);}\n",
       ".datatable .na {  color: var(--jp-cell-editor-border-color);  font-size: 80%;}\n",
       ".datatable .sp {  opacity: 0.25;}\n",
       ".datatable .footer { font-size: 9px; }\n",
       ".datatable .frame_dimensions {  background: var(--jp-border-color3);  border-top: 1px solid var(--jp-border-color0);  color: var(--jp-ui-font-color3);  display: inline-block;  opacity: 0.6;  padding: 1px 10px 1px 5px;}\n",
       "</style>\n"
      ],
      "text/plain": [
       "<IPython.core.display.HTML object>"
      ]
     },
     "metadata": {},
     "output_type": "display_data"
    },
    {
     "name": "stdout",
     "output_type": "stream",
     "text": [
      "\n",
      "WARNING: Search started with DATE search key only\n",
      "Try to add other keys like the COUNTRY, POSTAL_CODE, PHONE NUMBER, EMAIL/HEM, IPv4 to your training dataset\n",
      "for search through all the available data sources.\n",
      "See docs https://github.com/upgini/upgini#-total-239-countries-and-up-to-41-years-of-history\n",
      "Detected task type: ModelTaskType.REGRESSION\n",
      "\n"
     ]
    },
    {
     "data": {
      "text/html": [
       "<table><tr><th style='font-weight:bold'>Column name</th><th style='font-weight:bold'>Status</th><th style='font-weight:bold'>Errors</th></tr><tr><td>date</td><td style='background-color:#DAF7A6;color:black'>All valid</td><td>-</td></tr><tr><td>target</td><td style='background-color:#DAF7A6;color:black'>All valid</td><td>-</td></tr></table>"
      ],
      "text/plain": [
       "<IPython.core.display.HTML object>"
      ]
     },
     "metadata": {},
     "output_type": "display_data"
    },
    {
     "name": "stdout",
     "output_type": "stream",
     "text": [
      "\n",
      "Running search request, search_id=4210daf9-f71a-4891-bc8a-98434d0f9a14\n",
      "We'll send email notification once it's completed, just use your personal api_key from profile.upgini.com\n",
      "|\r\n",
      "\u001b[92m\u001b[1m\n",
      "30 relevant feature(s) found with the search keys: ['date']\u001b[0m\n"
     ]
    },
    {
     "data": {
      "text/html": [
       "<style>\n",
       "            .upgini-df thead th {\n",
       "                font-weight:bold;\n",
       "                text-align: right;\n",
       "                padding: 0.5em;\n",
       "            }\n",
       "\n",
       "            .upgini-df td {\n",
       "                padding: 0.5em;\n",
       "            }\n",
       "\n",
       "            .upgini-text {\n",
       "                text-align: right;\n",
       "            }\n",
       "\n",
       "            .upgini-number {\n",
       "                text-align: center;\n",
       "            }\n",
       "        </style><table class='upgini-df'><thead><th>Provider</th><th>Source</th><th>Feature name</th><th>SHAP value</th><th>Coverage %</th><th>Type</th><th>Feature type</th></thead><tbody><tr><td class='upgini-text'></td><td class='upgini-text'></td><td class='upgini-text'>item</td><td class='upgini-number'>0.593929</td><td class='upgini-number'>100.000000</td><td class='upgini-text'>categorical</td><td class='upgini-text'></td></tr><tr><td class='upgini-text'></td><td class='upgini-text'></td><td class='upgini-text'>store</td><td class='upgini-number'>0.195910</td><td class='upgini-number'>100.000000</td><td class='upgini-text'>categorical</td><td class='upgini-text'></td></tr><tr><td class='upgini-text'><a href='https://upgini.com' target='_blank' rel='noopener noreferrer'>Upgini</a></td><td class='upgini-text'><a href='https://upgini.com/#data_sources' target='_blank' rel='noopener noreferrer'>Public data</a></td><td class='upgini-text'><a href='https://docs.upgini.com/public/weather/weather_umap#f_weather_date_weather_umap_31_fa6d9a99' target='_blank' rel='noopener noreferrer'>f_weather_date_weather_umap_31_fa6d9a99</a></td><td class='upgini-number'>0.036087</td><td class='upgini-number'>100.000000</td><td class='upgini-text'>numerical</td><td class='upgini-text'>Free</td></tr><tr><td class='upgini-text'><a href='https://upgini.com' target='_blank' rel='noopener noreferrer'>Upgini</a></td><td class='upgini-text'><a href='https://upgini.com/#data_sources' target='_blank' rel='noopener noreferrer'>Public data</a></td><td class='upgini-text'><a href='https://docs.upgini.com/public/calendar/calendar#f_events_date_week_sin1_847b5db1' target='_blank' rel='noopener noreferrer'>f_events_date_week_sin1_847b5db1</a></td><td class='upgini-number'>0.033563</td><td class='upgini-number'>100.000000</td><td class='upgini-text'>numerical</td><td class='upgini-text'>Free</td></tr><tr><td class='upgini-text'><a href='https://upgini.com' target='_blank' rel='noopener noreferrer'>Upgini</a></td><td class='upgini-text'><a href='https://upgini.com/#data_sources' target='_blank' rel='noopener noreferrer'>Public data</a></td><td class='upgini-text'><a href='https://docs.upgini.com/public/calendar/calendar#f_events_date_year_cos1_9014a856' target='_blank' rel='noopener noreferrer'>f_events_date_year_cos1_9014a856</a></td><td class='upgini-number'>0.032180</td><td class='upgini-number'>100.000000</td><td class='upgini-text'>numerical</td><td class='upgini-text'>Free</td></tr><tr><td class='upgini-text'><a href='https://upgini.com' target='_blank' rel='noopener noreferrer'>Upgini</a></td><td class='upgini-text'><a href='https://upgini.com/#data_sources' target='_blank' rel='noopener noreferrer'>Public data</a></td><td class='upgini-text'><a href='https://docs.upgini.com/public/weather/weather_umap#f_weather_date_weather_umap_48_b39cd0c4' target='_blank' rel='noopener noreferrer'>f_weather_date_weather_umap_48_b39cd0c4</a></td><td class='upgini-number'>0.030332</td><td class='upgini-number'>100.000000</td><td class='upgini-text'>numerical</td><td class='upgini-text'>Free</td></tr><tr><td class='upgini-text'><a href='https://upgini.com' target='_blank' rel='noopener noreferrer'>Upgini</a></td><td class='upgini-text'><a href='https://upgini.com/#data_sources' target='_blank' rel='noopener noreferrer'>Public data</a></td><td class='upgini-text'><a href='https://docs.upgini.com/public/weather/weather_umap#f_weather_date_weather_umap_47_5123ef0a' target='_blank' rel='noopener noreferrer'>f_weather_date_weather_umap_47_5123ef0a</a></td><td class='upgini-number'>0.014408</td><td class='upgini-number'>100.000000</td><td class='upgini-text'>numerical</td><td class='upgini-text'>Free</td></tr><tr><td class='upgini-text'><a href='https://upgini.com' target='_blank' rel='noopener noreferrer'>Upgini</a></td><td class='upgini-text'><a href='https://upgini.com/#data_sources' target='_blank' rel='noopener noreferrer'>Public data</a></td><td class='upgini-text'><a href='https://docs.upgini.com/public/weather/weather_umap#f_weather_date_weather_umap_34_c3ef5b4f' target='_blank' rel='noopener noreferrer'>f_weather_date_weather_umap_34_c3ef5b4f</a></td><td class='upgini-number'>0.013787</td><td class='upgini-number'>100.000000</td><td class='upgini-text'>numerical</td><td class='upgini-text'>Free</td></tr><tr><td class='upgini-text'><a href='https://upgini.com' target='_blank' rel='noopener noreferrer'>Upgini</a></td><td class='upgini-text'><a href='https://upgini.com/#data_sources' target='_blank' rel='noopener noreferrer'>Public data</a></td><td class='upgini-text'><a href='https://docs.upgini.com/public/weather/weather_pca#f_weather_date_weather_pca_0_d7e0a1fc' target='_blank' rel='noopener noreferrer'>f_weather_date_weather_pca_0_d7e0a1fc</a></td><td class='upgini-number'>0.013082</td><td class='upgini-number'>100.000000</td><td class='upgini-text'>numerical</td><td class='upgini-text'>Free</td></tr><tr><td class='upgini-text'><a href='https://upgini.com' target='_blank' rel='noopener noreferrer'>Upgini</a></td><td class='upgini-text'><a href='https://upgini.com/#data_sources' target='_blank' rel='noopener noreferrer'>Public data</a></td><td class='upgini-text'><a href='https://docs.upgini.com/public/calendar/calendar#f_events_date_week_cos3_7525fe31' target='_blank' rel='noopener noreferrer'>f_events_date_week_cos3_7525fe31</a></td><td class='upgini-number'>0.009484</td><td class='upgini-number'>100.000000</td><td class='upgini-text'>numerical</td><td class='upgini-text'>Free</td></tr><tr><td class='upgini-text'><a href='https://upgini.com' target='_blank' rel='noopener noreferrer'>Upgini</a></td><td class='upgini-text'><a href='https://upgini.com/#data_sources' target='_blank' rel='noopener noreferrer'>Public data</a></td><td class='upgini-text'><a href='https://docs.upgini.com/public/weather/weather_umap#f_weather_date_weather_umap_33_89bb7578' target='_blank' rel='noopener noreferrer'>f_weather_date_weather_umap_33_89bb7578</a></td><td class='upgini-number'>0.004414</td><td class='upgini-number'>100.000000</td><td class='upgini-text'>numerical</td><td class='upgini-text'>Free</td></tr><tr><td class='upgini-text'><a href='https://upgini.com' target='_blank' rel='noopener noreferrer'>Upgini</a></td><td class='upgini-text'><a href='https://upgini.com/#data_sources' target='_blank' rel='noopener noreferrer'>Public data</a></td><td class='upgini-text'><a href='https://docs.upgini.com/public/markets/finance#f_financial_date_silver_7d_to_7d_1y_shift_9cb6bdfc' target='_blank' rel='noopener noreferrer'>f_financial_date_silver_7d_to_7d_1y_shift_9cb6bdfc</a></td><td class='upgini-number'>0.002103</td><td class='upgini-number'>100.000000</td><td class='upgini-text'>numerical</td><td class='upgini-text'>Free</td></tr><tr><td class='upgini-text'><a href='https://upgini.com' target='_blank' rel='noopener noreferrer'>Upgini</a></td><td class='upgini-text'><a href='https://upgini.com/#data_sources' target='_blank' rel='noopener noreferrer'>Public data</a></td><td class='upgini-text'><a href='https://docs.upgini.com/public/weather/weather_umap#f_weather_date_weather_umap_1_68679173' target='_blank' rel='noopener noreferrer'>f_weather_date_weather_umap_1_68679173</a></td><td class='upgini-number'>0.001477</td><td class='upgini-number'>100.000000</td><td class='upgini-text'>numerical</td><td class='upgini-text'>Free</td></tr><tr><td class='upgini-text'><a href='https://upgini.com' target='_blank' rel='noopener noreferrer'>Upgini</a></td><td class='upgini-text'><a href='https://upgini.com/#data_sources' target='_blank' rel='noopener noreferrer'>Public data</a></td><td class='upgini-text'><a href='https://docs.upgini.com/public/weather/weather_pca#f_weather_date_weather_pca_3_006924ed' target='_blank' rel='noopener noreferrer'>f_weather_date_weather_pca_3_006924ed</a></td><td class='upgini-number'>0.001458</td><td class='upgini-number'>100.000000</td><td class='upgini-text'>numerical</td><td class='upgini-text'>Free</td></tr><tr><td class='upgini-text'><a href='https://upgini.com' target='_blank' rel='noopener noreferrer'>Upgini</a></td><td class='upgini-text'><a href='https://upgini.com/#data_sources' target='_blank' rel='noopener noreferrer'>Public data</a></td><td class='upgini-text'><a href='https://docs.upgini.com/public/weather/weather_pca#f_weather_date_weather_pca_1_9e4af931' target='_blank' rel='noopener noreferrer'>f_weather_date_weather_pca_1_9e4af931</a></td><td class='upgini-number'>0.001345</td><td class='upgini-number'>100.000000</td><td class='upgini-text'>numerical</td><td class='upgini-text'>Free</td></tr><tr><td class='upgini-text'><a href='https://upgini.com' target='_blank' rel='noopener noreferrer'>Upgini</a></td><td class='upgini-text'><a href='https://upgini.com/#data_sources' target='_blank' rel='noopener noreferrer'>Public data</a></td><td class='upgini-text'><a href='https://docs.upgini.com/public/weather/weather_umap#f_weather_date_weather_umap_13_842ae1fc' target='_blank' rel='noopener noreferrer'>f_weather_date_weather_umap_13_842ae1fc</a></td><td class='upgini-number'>0.001144</td><td class='upgini-number'>100.000000</td><td class='upgini-text'>numerical</td><td class='upgini-text'>Free</td></tr><tr><td class='upgini-text'><a href='https://upgini.com' target='_blank' rel='noopener noreferrer'>Upgini</a></td><td class='upgini-text'><a href='https://upgini.com/#data_sources' target='_blank' rel='noopener noreferrer'>Public data</a></td><td class='upgini-text'><a href='https://docs.upgini.com/public/economics/cbpol_pca#f_economic_date_cbpol_pca_9_bde660b4' target='_blank' rel='noopener noreferrer'>f_economic_date_cbpol_pca_9_bde660b4</a></td><td class='upgini-number'>0.000962</td><td class='upgini-number'>100.000000</td><td class='upgini-text'>numerical</td><td class='upgini-text'>Free</td></tr><tr><td class='upgini-text'><a href='https://upgini.com' target='_blank' rel='noopener noreferrer'>Upgini</a></td><td class='upgini-text'><a href='https://upgini.com/#data_sources' target='_blank' rel='noopener noreferrer'>Public data</a></td><td class='upgini-text'><a href='https://docs.upgini.com/public/markets/finance#f_financial_date_nasdaq_7d_to_1y_62ed0967' target='_blank' rel='noopener noreferrer'>f_financial_date_nasdaq_7d_to_1y_62ed0967</a></td><td class='upgini-number'>0.000641</td><td class='upgini-number'>100.000000</td><td class='upgini-text'>numerical</td><td class='upgini-text'>Free</td></tr><tr><td class='upgini-text'><a href='https://upgini.com' target='_blank' rel='noopener noreferrer'>Upgini</a></td><td class='upgini-text'><a href='https://upgini.com/#data_sources' target='_blank' rel='noopener noreferrer'>Public data</a></td><td class='upgini-text'><a href='https://docs.upgini.com/public/weather/weather_umap#f_weather_date_weather_umap_26_5d9cba3d' target='_blank' rel='noopener noreferrer'>f_weather_date_weather_umap_26_5d9cba3d</a></td><td class='upgini-number'>0.000577</td><td class='upgini-number'>100.000000</td><td class='upgini-text'>numerical</td><td class='upgini-text'>Free</td></tr><tr><td class='upgini-text'><a href='https://upgini.com' target='_blank' rel='noopener noreferrer'>Upgini</a></td><td class='upgini-text'><a href='https://upgini.com/#data_sources' target='_blank' rel='noopener noreferrer'>Public data</a></td><td class='upgini-text'><a href='https://docs.upgini.com/public/markets/finance#f_financial_date_stoxx_dd33e672' target='_blank' rel='noopener noreferrer'>f_financial_date_stoxx_dd33e672</a></td><td class='upgini-number'>0.000476</td><td class='upgini-number'>100.000000</td><td class='upgini-text'>numerical</td><td class='upgini-text'>Free</td></tr><tr><td class='upgini-text'><a href='https://upgini.com' target='_blank' rel='noopener noreferrer'>Upgini</a></td><td class='upgini-text'><a href='https://upgini.com/#data_sources' target='_blank' rel='noopener noreferrer'>Public data</a></td><td class='upgini-text'><a href='https://docs.upgini.com/public/markets/finance#f_financial_date_vix_7d_to_1y_102678ff' target='_blank' rel='noopener noreferrer'>f_financial_date_vix_7d_to_1y_102678ff</a></td><td class='upgini-number'>0.000423</td><td class='upgini-number'>100.000000</td><td class='upgini-text'>numerical</td><td class='upgini-text'>Free</td></tr><tr><td class='upgini-text'><a href='https://upgini.com' target='_blank' rel='noopener noreferrer'>Upgini</a></td><td class='upgini-text'><a href='https://upgini.com/#data_sources' target='_blank' rel='noopener noreferrer'>Public data</a></td><td class='upgini-text'><a href='https://docs.upgini.com/public/economics/cbpol_umap#f_economic_date_cbpol_umap_4_c5ce4e90' target='_blank' rel='noopener noreferrer'>f_economic_date_cbpol_umap_4_c5ce4e90</a></td><td class='upgini-number'>0.000394</td><td class='upgini-number'>100.000000</td><td class='upgini-text'>numerical</td><td class='upgini-text'>Free</td></tr><tr><td class='upgini-text'><a href='https://upgini.com' target='_blank' rel='noopener noreferrer'>Upgini</a></td><td class='upgini-text'><a href='https://upgini.com/#data_sources' target='_blank' rel='noopener noreferrer'>Public data</a></td><td class='upgini-text'><a href='https://docs.upgini.com/public/economics/cci_pca#f_economic_date_cci_pca_3_10646e17' target='_blank' rel='noopener noreferrer'>f_economic_date_cci_pca_3_10646e17</a></td><td class='upgini-number'>0.000381</td><td class='upgini-number'>100.000000</td><td class='upgini-text'>numerical</td><td class='upgini-text'>Free</td></tr><tr><td class='upgini-text'><a href='https://upgini.com' target='_blank' rel='noopener noreferrer'>Upgini</a></td><td class='upgini-text'><a href='https://upgini.com/#data_sources' target='_blank' rel='noopener noreferrer'>Public data</a></td><td class='upgini-text'><a href='https://docs.upgini.com/public/economics/cci_pca#f_economic_date_cci_pca_6_aa7c1005' target='_blank' rel='noopener noreferrer'>f_economic_date_cci_pca_6_aa7c1005</a></td><td class='upgini-number'>0.000329</td><td class='upgini-number'>100.000000</td><td class='upgini-text'>numerical</td><td class='upgini-text'>Free</td></tr><tr><td class='upgini-text'><a href='https://upgini.com' target='_blank' rel='noopener noreferrer'>Upgini</a></td><td class='upgini-text'><a href='https://upgini.com/#data_sources' target='_blank' rel='noopener noreferrer'>Public data</a></td><td class='upgini-text'><a href='https://docs.upgini.com/public/calendar/calendar#f_events_date_year_sin1_3c44bc64' target='_blank' rel='noopener noreferrer'>f_events_date_year_sin1_3c44bc64</a></td><td class='upgini-number'>0.000324</td><td class='upgini-number'>100.000000</td><td class='upgini-text'>numerical</td><td class='upgini-text'>Free</td></tr><tr><td class='upgini-text'><a href='https://upgini.com' target='_blank' rel='noopener noreferrer'>Upgini</a></td><td class='upgini-text'><a href='https://upgini.com/#data_sources' target='_blank' rel='noopener noreferrer'>Public data</a></td><td class='upgini-text'><a href='https://docs.upgini.com/public/weather/weather_umap#f_weather_date_weather_umap_12_d03be9a0' target='_blank' rel='noopener noreferrer'>f_weather_date_weather_umap_12_d03be9a0</a></td><td class='upgini-number'>0.000316</td><td class='upgini-number'>100.000000</td><td class='upgini-text'>numerical</td><td class='upgini-text'>Free</td></tr><tr><td class='upgini-text'><a href='https://upgini.com' target='_blank' rel='noopener noreferrer'>Upgini</a></td><td class='upgini-text'><a href='https://upgini.com/#data_sources' target='_blank' rel='noopener noreferrer'>Public data</a></td><td class='upgini-text'><a href='https://docs.upgini.com/public/economics/cbpol_pca#f_economic_date_cbpol_pca_1_31e5f62c' target='_blank' rel='noopener noreferrer'>f_economic_date_cbpol_pca_1_31e5f62c</a></td><td class='upgini-number'>0.000287</td><td class='upgini-number'>100.000000</td><td class='upgini-text'>numerical</td><td class='upgini-text'>Free</td></tr><tr><td class='upgini-text'><a href='https://upgini.com' target='_blank' rel='noopener noreferrer'>Upgini</a></td><td class='upgini-text'><a href='https://upgini.com/#data_sources' target='_blank' rel='noopener noreferrer'>Public data</a></td><td class='upgini-text'><a href='https://docs.upgini.com/public/markets/finance_umap#f_financial_date_finance_umap_0_526a7a88' target='_blank' rel='noopener noreferrer'>f_financial_date_finance_umap_0_526a7a88</a></td><td class='upgini-number'>0.000265</td><td class='upgini-number'>100.000000</td><td class='upgini-text'>numerical</td><td class='upgini-text'>Free</td></tr><tr><td class='upgini-text'><a href='https://upgini.com' target='_blank' rel='noopener noreferrer'>Upgini</a></td><td class='upgini-text'><a href='https://upgini.com/#data_sources' target='_blank' rel='noopener noreferrer'>Public data</a></td><td class='upgini-text'><a href='https://docs.upgini.com/public/weather/weather_umap#f_weather_date_weather_umap_35_5ddaa0ba' target='_blank' rel='noopener noreferrer'>f_weather_date_weather_umap_35_5ddaa0ba</a></td><td class='upgini-number'>0.000232</td><td class='upgini-number'>100.000000</td><td class='upgini-text'>numerical</td><td class='upgini-text'>Free</td></tr><tr><td class='upgini-text'><a href='https://upgini.com' target='_blank' rel='noopener noreferrer'>Upgini</a></td><td class='upgini-text'><a href='https://upgini.com/#data_sources' target='_blank' rel='noopener noreferrer'>Public data</a></td><td class='upgini-text'><a href='https://docs.upgini.com/public/weather/weather_umap#f_weather_date_weather_umap_22_0342ee9e' target='_blank' rel='noopener noreferrer'>f_weather_date_weather_umap_22_0342ee9e</a></td><td class='upgini-number'>0.000205</td><td class='upgini-number'>100.000000</td><td class='upgini-text'>numerical</td><td class='upgini-text'>Free</td></tr><tr><td class='upgini-text'><a href='https://upgini.com' target='_blank' rel='noopener noreferrer'>Upgini</a></td><td class='upgini-text'><a href='https://upgini.com/#data_sources' target='_blank' rel='noopener noreferrer'>Public data</a></td><td class='upgini-text'><a href='https://docs.upgini.com/public/economics/cpi_umap#f_economic_date_cpi_umap_7_d43e2396' target='_blank' rel='noopener noreferrer'>f_economic_date_cpi_umap_7_d43e2396</a></td><td class='upgini-number'>0.000172</td><td class='upgini-number'>100.000000</td><td class='upgini-text'>numerical</td><td class='upgini-text'>Free</td></tr><tr><td class='upgini-text'><a href='https://upgini.com' target='_blank' rel='noopener noreferrer'>Upgini</a></td><td class='upgini-text'><a href='https://upgini.com/#data_sources' target='_blank' rel='noopener noreferrer'>Public data</a></td><td class='upgini-text'><a href='https://docs.upgini.com/public/weather/weather_umap#f_weather_date_weather_umap_45_d474bf8d' target='_blank' rel='noopener noreferrer'>f_weather_date_weather_umap_45_d474bf8d</a></td><td class='upgini-number'>0.000163</td><td class='upgini-number'>100.000000</td><td class='upgini-text'>numerical</td><td class='upgini-text'>Free</td></tr></tbody></table>"
      ],
      "text/plain": [
       "<IPython.core.display.HTML object>"
      ]
     },
     "metadata": {},
     "output_type": "display_data"
    },
    {
     "name": "stdout",
     "output_type": "stream",
     "text": [
      "We detected 113 outliers in your sample.\n",
      "Examples of outliers with maximum value of target:\n",
      "84    205\n",
      "47    196\n",
      "38    187\n",
      "Name: target, dtype: int64\n",
      "Outliers will be excluded during the metrics calculation.\n",
      "Before dropping target outliers size: 19000\n",
      "After dropping target outliers size: 18887\n",
      "Calculating accuracy uplift after enrichment...\n",
      "-\r\n",
      "WARNING: y distributions from the training sample and eval_set differ according to the Kolmogorov-Smirnov test,\n",
      "which makes metrics between the train and eval_set incomparable.\n",
      "\u001b[92m\u001b[1m\n",
      "Quality metrics\u001b[0m\n"
     ]
    },
    {
     "data": {
      "text/html": [
       "<div>\n",
       "<style scoped>\n",
       "    .dataframe tbody tr th:only-of-type {\n",
       "        vertical-align: middle;\n",
       "    }\n",
       "\n",
       "    .dataframe tbody tr th {\n",
       "        vertical-align: top;\n",
       "    }\n",
       "\n",
       "    .dataframe thead th {\n",
       "        text-align: right;\n",
       "    }\n",
       "</style>\n",
       "<table border=\"1\" class=\"dataframe\">\n",
       "  <thead>\n",
       "    <tr style=\"text-align: right;\">\n",
       "      <th></th>\n",
       "      <th>Rows</th>\n",
       "      <th>Baseline mean_squared_error</th>\n",
       "      <th>Enriched mean_squared_error</th>\n",
       "      <th>Uplift</th>\n",
       "    </tr>\n",
       "    <tr>\n",
       "      <th></th>\n",
       "      <th></th>\n",
       "      <th></th>\n",
       "      <th></th>\n",
       "      <th></th>\n",
       "    </tr>\n",
       "  </thead>\n",
       "  <tbody>\n",
       "    <tr>\n",
       "      <th>Train</th>\n",
       "      <td>15148</td>\n",
       "      <td>309.990498</td>\n",
       "      <td>195.876523</td>\n",
       "      <td>114.113975</td>\n",
       "    </tr>\n",
       "    <tr>\n",
       "      <th>Eval 1</th>\n",
       "      <td>3739</td>\n",
       "      <td>509.289740</td>\n",
       "      <td>366.309441</td>\n",
       "      <td>142.980299</td>\n",
       "    </tr>\n",
       "  </tbody>\n",
       "</table>\n",
       "</div>"
      ],
      "text/plain": [
       "         Rows  Baseline mean_squared_error  Enriched mean_squared_error  \\\n",
       "                                                                          \n",
       "Train   15148                   309.990498                   195.876523   \n",
       "Eval 1   3739                   509.289740                   366.309441   \n",
       "\n",
       "            Uplift  \n",
       "                    \n",
       "Train   114.113975  \n",
       "Eval 1  142.980299  "
      ]
     },
     "metadata": {},
     "output_type": "display_data"
    }
   ],
   "source": [
    "# imports\n",
    "from upgini import FeaturesEnricher, SearchKey\n",
    "from upgini.metadata import CVType\n",
    "\n",
    "# creating upgini enricher, we use date as the search keyword\n",
    "enricher = FeaturesEnricher(\n",
    "    search_keys = {\n",
    "      \"date\": SearchKey.DATE,\n",
    "    },\n",
    "    cv = CVType.time_series\n",
    ")\n",
    "\n",
    "# fitting training data to the enricher\n",
    "enricher.fit(train_features,\n",
    "             train_target,\n",
    "             eval_set=[(test_features, test_target)]\n",
    ")"
   ]
  },
  {
   "cell_type": "markdown",
   "id": "6dfd8255",
   "metadata": {
    "papermill": {
     "duration": 0.016604,
     "end_time": "2023-06-17T15:38:53.705253",
     "exception": false,
     "start_time": "2023-06-17T15:38:53.688649",
     "status": "completed"
    },
    "tags": []
   },
   "source": [
    "### <b><span style='color:#58A2A8'>5.3</span> | Model creation</b>"
   ]
  },
  {
   "cell_type": "code",
   "execution_count": 6,
   "id": "615fdd33",
   "metadata": {
    "execution": {
     "iopub.execute_input": "2023-06-17T15:38:53.745725Z",
     "iopub.status.busy": "2023-06-17T15:38:53.745200Z",
     "iopub.status.idle": "2023-06-17T15:41:17.167196Z",
     "shell.execute_reply": "2023-06-17T15:41:17.166112Z"
    },
    "papermill": {
     "duration": 143.447534,
     "end_time": "2023-06-17T15:41:17.169525",
     "exception": false,
     "start_time": "2023-06-17T15:38:53.721991",
     "status": "completed"
    },
    "tags": []
   },
   "outputs": [
    {
     "name": "stdout",
     "output_type": "stream",
     "text": [
      "Calculating accuracy uplift after enrichment...\n",
      "-\r\n",
      "WARNING: y distributions from the training sample and eval_set differ according to the Kolmogorov-Smirnov test,\n",
      "which makes metrics between the train and eval_set incomparable.\n",
      "\\\r"
     ]
    },
    {
     "data": {
      "text/html": [
       "<div>\n",
       "<style scoped>\n",
       "    .dataframe tbody tr th:only-of-type {\n",
       "        vertical-align: middle;\n",
       "    }\n",
       "\n",
       "    .dataframe tbody tr th {\n",
       "        vertical-align: top;\n",
       "    }\n",
       "\n",
       "    .dataframe thead th {\n",
       "        text-align: right;\n",
       "    }\n",
       "</style>\n",
       "<table border=\"1\" class=\"dataframe\">\n",
       "  <thead>\n",
       "    <tr style=\"text-align: right;\">\n",
       "      <th></th>\n",
       "      <th>Rows</th>\n",
       "      <th>Baseline mean_absolute_percentage_error</th>\n",
       "      <th>Enriched mean_absolute_percentage_error</th>\n",
       "      <th>Uplift</th>\n",
       "    </tr>\n",
       "    <tr>\n",
       "      <th></th>\n",
       "      <th></th>\n",
       "      <th></th>\n",
       "      <th></th>\n",
       "      <th></th>\n",
       "    </tr>\n",
       "  </thead>\n",
       "  <tbody>\n",
       "    <tr>\n",
       "      <th>Train</th>\n",
       "      <td>15148</td>\n",
       "      <td>0.255109</td>\n",
       "      <td>0.155266</td>\n",
       "      <td>0.099843</td>\n",
       "    </tr>\n",
       "    <tr>\n",
       "      <th>Eval 1</th>\n",
       "      <td>3739</td>\n",
       "      <td>0.270377</td>\n",
       "      <td>0.194607</td>\n",
       "      <td>0.075770</td>\n",
       "    </tr>\n",
       "  </tbody>\n",
       "</table>\n",
       "</div>"
      ],
      "text/plain": [
       "         Rows  Baseline mean_absolute_percentage_error  \\\n",
       "                                                         \n",
       "Train   15148                                 0.255109   \n",
       "Eval 1   3739                                 0.270377   \n",
       "\n",
       "        Enriched mean_absolute_percentage_error    Uplift  \n",
       "                                                           \n",
       "Train                                  0.155266  0.099843  \n",
       "Eval 1                                 0.194607  0.075770  "
      ]
     },
     "execution_count": 6,
     "metadata": {},
     "output_type": "execute_result"
    }
   ],
   "source": [
    "# imports\n",
    "from catboost import CatBoostRegressor\n",
    "from catboost.utils import eval_metric\n",
    "\n",
    "# creating CatBoost model\n",
    "model = CatBoostRegressor(verbose=False, allow_writing_files=False, random_state=0)\n",
    "\n",
    "# calculating metrics before and after enrichment with new relevant features\n",
    "enricher.calculate_metrics(\n",
    "    train_features, train_target, \n",
    "    eval_set = [(test_features, test_target)],\n",
    "    estimator = model,\n",
    "    scoring = \"mean_absolute_percentage_error\"\n",
    ")"
   ]
  },
  {
   "cell_type": "code",
   "execution_count": 7,
   "id": "94c0b112",
   "metadata": {
    "execution": {
     "iopub.execute_input": "2023-06-17T15:41:17.330165Z",
     "iopub.status.busy": "2023-06-17T15:41:17.329690Z",
     "iopub.status.idle": "2023-06-17T15:44:49.843507Z",
     "shell.execute_reply": "2023-06-17T15:44:49.842480Z"
    },
    "papermill": {
     "duration": 212.598254,
     "end_time": "2023-06-17T15:44:49.845811",
     "exception": false,
     "start_time": "2023-06-17T15:41:17.247557",
     "status": "completed"
    },
    "tags": []
   },
   "outputs": [
    {
     "name": "stdout",
     "output_type": "stream",
     "text": [
      "\n",
      "WARNING: Search started with DATE search key only\n",
      "Try to add other keys like the COUNTRY, POSTAL_CODE, PHONE NUMBER, EMAIL/HEM, IPv4 to your training dataset\n",
      "for search through all the available data sources.\n",
      "See docs https://github.com/upgini/upgini#-total-239-countries-and-up-to-41-years-of-history\n"
     ]
    },
    {
     "data": {
      "text/html": [
       "<table><tr><th style='font-weight:bold'>Column name</th><th style='font-weight:bold'>Status</th><th style='font-weight:bold'>Errors</th></tr><tr><td>date</td><td style='background-color:#DAF7A6;color:black'>All valid</td><td>-</td></tr></table>"
      ],
      "text/plain": [
       "<IPython.core.display.HTML object>"
      ]
     },
     "metadata": {},
     "output_type": "display_data"
    },
    {
     "name": "stdout",
     "output_type": "stream",
     "text": [
      "\n",
      "Running search request, search_id=79571097-bed2-4a27-8966-1ab14ec168e8\n",
      "We'll send email notification once it's completed, just use your personal api_key from profile.upgini.com\n",
      "-\r\n",
      "Retrieving selected features from data sources...\n",
      "|\r\n",
      "WARNING: Search started with DATE search key only\n",
      "Try to add other keys like the COUNTRY, POSTAL_CODE, PHONE NUMBER, EMAIL/HEM, IPv4 to your training dataset\n",
      "for search through all the available data sources.\n",
      "See docs https://github.com/upgini/upgini#-total-239-countries-and-up-to-41-years-of-history\n"
     ]
    },
    {
     "data": {
      "text/html": [
       "<table><tr><th style='font-weight:bold'>Column name</th><th style='font-weight:bold'>Status</th><th style='font-weight:bold'>Errors</th></tr><tr><td>date</td><td style='background-color:#DAF7A6;color:black'>All valid</td><td>-</td></tr></table>"
      ],
      "text/plain": [
       "<IPython.core.display.HTML object>"
      ]
     },
     "metadata": {},
     "output_type": "display_data"
    },
    {
     "name": "stdout",
     "output_type": "stream",
     "text": [
      "\n",
      "Running search request, search_id=c8ee0eb1-703b-4155-8b90-3fcaaa767978\n",
      "We'll send email notification once it's completed, just use your personal api_key from profile.upgini.com\n",
      "-\r\n",
      "Retrieving selected features from data sources...\n",
      "\\\r"
     ]
    },
    {
     "data": {
      "text/html": [
       "<div>\n",
       "<style scoped>\n",
       "    .dataframe tbody tr th:only-of-type {\n",
       "        vertical-align: middle;\n",
       "    }\n",
       "\n",
       "    .dataframe tbody tr th {\n",
       "        vertical-align: top;\n",
       "    }\n",
       "\n",
       "    .dataframe thead th {\n",
       "        text-align: right;\n",
       "    }\n",
       "</style>\n",
       "<table border=\"1\" class=\"dataframe\">\n",
       "  <thead>\n",
       "    <tr style=\"text-align: right;\">\n",
       "      <th></th>\n",
       "      <th>date</th>\n",
       "      <th>store</th>\n",
       "      <th>item</th>\n",
       "      <th>f_weather_date_weather_umap_31_fa6d9a99</th>\n",
       "      <th>f_events_date_week_sin1_847b5db1</th>\n",
       "      <th>f_events_date_year_cos1_9014a856</th>\n",
       "      <th>f_weather_date_weather_umap_48_b39cd0c4</th>\n",
       "      <th>f_weather_date_weather_umap_47_5123ef0a</th>\n",
       "      <th>f_weather_date_weather_umap_34_c3ef5b4f</th>\n",
       "      <th>f_weather_date_weather_pca_0_d7e0a1fc</th>\n",
       "      <th>...</th>\n",
       "      <th>f_economic_date_cci_pca_3_10646e17</th>\n",
       "      <th>f_economic_date_cci_pca_6_aa7c1005</th>\n",
       "      <th>f_events_date_year_sin1_3c44bc64</th>\n",
       "      <th>f_weather_date_weather_umap_12_d03be9a0</th>\n",
       "      <th>f_economic_date_cbpol_pca_1_31e5f62c</th>\n",
       "      <th>f_financial_date_finance_umap_0_526a7a88</th>\n",
       "      <th>f_weather_date_weather_umap_35_5ddaa0ba</th>\n",
       "      <th>f_weather_date_weather_umap_22_0342ee9e</th>\n",
       "      <th>f_economic_date_cpi_umap_7_d43e2396</th>\n",
       "      <th>f_weather_date_weather_umap_45_d474bf8d</th>\n",
       "    </tr>\n",
       "  </thead>\n",
       "  <tbody>\n",
       "    <tr>\n",
       "      <th>0</th>\n",
       "      <td>2013-01-01</td>\n",
       "      <td>7</td>\n",
       "      <td>5</td>\n",
       "      <td>4.712653</td>\n",
       "      <td>0.781831</td>\n",
       "      <td>0.98522</td>\n",
       "      <td>4.540985</td>\n",
       "      <td>5.927147</td>\n",
       "      <td>5.664261</td>\n",
       "      <td>29.676683</td>\n",
       "      <td>...</td>\n",
       "      <td>-1.962578</td>\n",
       "      <td>-1.387072</td>\n",
       "      <td>0.171293</td>\n",
       "      <td>3.739055</td>\n",
       "      <td>-0.438029</td>\n",
       "      <td>10.955449</td>\n",
       "      <td>4.76773</td>\n",
       "      <td>4.806711</td>\n",
       "      <td>11.154531</td>\n",
       "      <td>4.923654</td>\n",
       "    </tr>\n",
       "    <tr>\n",
       "      <th>1</th>\n",
       "      <td>2013-01-01</td>\n",
       "      <td>4</td>\n",
       "      <td>9</td>\n",
       "      <td>4.712653</td>\n",
       "      <td>0.781831</td>\n",
       "      <td>0.98522</td>\n",
       "      <td>4.540985</td>\n",
       "      <td>5.927147</td>\n",
       "      <td>5.664261</td>\n",
       "      <td>29.676683</td>\n",
       "      <td>...</td>\n",
       "      <td>-1.962578</td>\n",
       "      <td>-1.387072</td>\n",
       "      <td>0.171293</td>\n",
       "      <td>3.739055</td>\n",
       "      <td>-0.438029</td>\n",
       "      <td>10.955449</td>\n",
       "      <td>4.76773</td>\n",
       "      <td>4.806711</td>\n",
       "      <td>11.154531</td>\n",
       "      <td>4.923654</td>\n",
       "    </tr>\n",
       "    <tr>\n",
       "      <th>2</th>\n",
       "      <td>2013-01-01</td>\n",
       "      <td>1</td>\n",
       "      <td>33</td>\n",
       "      <td>4.712653</td>\n",
       "      <td>0.781831</td>\n",
       "      <td>0.98522</td>\n",
       "      <td>4.540985</td>\n",
       "      <td>5.927147</td>\n",
       "      <td>5.664261</td>\n",
       "      <td>29.676683</td>\n",
       "      <td>...</td>\n",
       "      <td>-1.962578</td>\n",
       "      <td>-1.387072</td>\n",
       "      <td>0.171293</td>\n",
       "      <td>3.739055</td>\n",
       "      <td>-0.438029</td>\n",
       "      <td>10.955449</td>\n",
       "      <td>4.76773</td>\n",
       "      <td>4.806711</td>\n",
       "      <td>11.154531</td>\n",
       "      <td>4.923654</td>\n",
       "    </tr>\n",
       "    <tr>\n",
       "      <th>3</th>\n",
       "      <td>2013-01-01</td>\n",
       "      <td>3</td>\n",
       "      <td>41</td>\n",
       "      <td>4.712653</td>\n",
       "      <td>0.781831</td>\n",
       "      <td>0.98522</td>\n",
       "      <td>4.540985</td>\n",
       "      <td>5.927147</td>\n",
       "      <td>5.664261</td>\n",
       "      <td>29.676683</td>\n",
       "      <td>...</td>\n",
       "      <td>-1.962578</td>\n",
       "      <td>-1.387072</td>\n",
       "      <td>0.171293</td>\n",
       "      <td>3.739055</td>\n",
       "      <td>-0.438029</td>\n",
       "      <td>10.955449</td>\n",
       "      <td>4.76773</td>\n",
       "      <td>4.806711</td>\n",
       "      <td>11.154531</td>\n",
       "      <td>4.923654</td>\n",
       "    </tr>\n",
       "    <tr>\n",
       "      <th>4</th>\n",
       "      <td>2013-01-01</td>\n",
       "      <td>5</td>\n",
       "      <td>24</td>\n",
       "      <td>4.712653</td>\n",
       "      <td>0.781831</td>\n",
       "      <td>0.98522</td>\n",
       "      <td>4.540985</td>\n",
       "      <td>5.927147</td>\n",
       "      <td>5.664261</td>\n",
       "      <td>29.676683</td>\n",
       "      <td>...</td>\n",
       "      <td>-1.962578</td>\n",
       "      <td>-1.387072</td>\n",
       "      <td>0.171293</td>\n",
       "      <td>3.739055</td>\n",
       "      <td>-0.438029</td>\n",
       "      <td>10.955449</td>\n",
       "      <td>4.76773</td>\n",
       "      <td>4.806711</td>\n",
       "      <td>11.154531</td>\n",
       "      <td>4.923654</td>\n",
       "    </tr>\n",
       "  </tbody>\n",
       "</table>\n",
       "<p>5 rows × 33 columns</p>\n",
       "</div>"
      ],
      "text/plain": [
       "        date store item  f_weather_date_weather_umap_31_fa6d9a99  \\\n",
       "0 2013-01-01     7    5                                 4.712653   \n",
       "1 2013-01-01     4    9                                 4.712653   \n",
       "2 2013-01-01     1   33                                 4.712653   \n",
       "3 2013-01-01     3   41                                 4.712653   \n",
       "4 2013-01-01     5   24                                 4.712653   \n",
       "\n",
       "   f_events_date_week_sin1_847b5db1  f_events_date_year_cos1_9014a856  \\\n",
       "0                          0.781831                           0.98522   \n",
       "1                          0.781831                           0.98522   \n",
       "2                          0.781831                           0.98522   \n",
       "3                          0.781831                           0.98522   \n",
       "4                          0.781831                           0.98522   \n",
       "\n",
       "   f_weather_date_weather_umap_48_b39cd0c4  \\\n",
       "0                                 4.540985   \n",
       "1                                 4.540985   \n",
       "2                                 4.540985   \n",
       "3                                 4.540985   \n",
       "4                                 4.540985   \n",
       "\n",
       "   f_weather_date_weather_umap_47_5123ef0a  \\\n",
       "0                                 5.927147   \n",
       "1                                 5.927147   \n",
       "2                                 5.927147   \n",
       "3                                 5.927147   \n",
       "4                                 5.927147   \n",
       "\n",
       "   f_weather_date_weather_umap_34_c3ef5b4f  \\\n",
       "0                                 5.664261   \n",
       "1                                 5.664261   \n",
       "2                                 5.664261   \n",
       "3                                 5.664261   \n",
       "4                                 5.664261   \n",
       "\n",
       "   f_weather_date_weather_pca_0_d7e0a1fc  ...  \\\n",
       "0                              29.676683  ...   \n",
       "1                              29.676683  ...   \n",
       "2                              29.676683  ...   \n",
       "3                              29.676683  ...   \n",
       "4                              29.676683  ...   \n",
       "\n",
       "   f_economic_date_cci_pca_3_10646e17  f_economic_date_cci_pca_6_aa7c1005  \\\n",
       "0                           -1.962578                           -1.387072   \n",
       "1                           -1.962578                           -1.387072   \n",
       "2                           -1.962578                           -1.387072   \n",
       "3                           -1.962578                           -1.387072   \n",
       "4                           -1.962578                           -1.387072   \n",
       "\n",
       "   f_events_date_year_sin1_3c44bc64  f_weather_date_weather_umap_12_d03be9a0  \\\n",
       "0                          0.171293                                 3.739055   \n",
       "1                          0.171293                                 3.739055   \n",
       "2                          0.171293                                 3.739055   \n",
       "3                          0.171293                                 3.739055   \n",
       "4                          0.171293                                 3.739055   \n",
       "\n",
       "   f_economic_date_cbpol_pca_1_31e5f62c  \\\n",
       "0                             -0.438029   \n",
       "1                             -0.438029   \n",
       "2                             -0.438029   \n",
       "3                             -0.438029   \n",
       "4                             -0.438029   \n",
       "\n",
       "   f_financial_date_finance_umap_0_526a7a88  \\\n",
       "0                                 10.955449   \n",
       "1                                 10.955449   \n",
       "2                                 10.955449   \n",
       "3                                 10.955449   \n",
       "4                                 10.955449   \n",
       "\n",
       "   f_weather_date_weather_umap_35_5ddaa0ba  \\\n",
       "0                                  4.76773   \n",
       "1                                  4.76773   \n",
       "2                                  4.76773   \n",
       "3                                  4.76773   \n",
       "4                                  4.76773   \n",
       "\n",
       "   f_weather_date_weather_umap_22_0342ee9e  \\\n",
       "0                                 4.806711   \n",
       "1                                 4.806711   \n",
       "2                                 4.806711   \n",
       "3                                 4.806711   \n",
       "4                                 4.806711   \n",
       "\n",
       "   f_economic_date_cpi_umap_7_d43e2396  \\\n",
       "0                            11.154531   \n",
       "1                            11.154531   \n",
       "2                            11.154531   \n",
       "3                            11.154531   \n",
       "4                            11.154531   \n",
       "\n",
       "   f_weather_date_weather_umap_45_d474bf8d  \n",
       "0                                 4.923654  \n",
       "1                                 4.923654  \n",
       "2                                 4.923654  \n",
       "3                                 4.923654  \n",
       "4                                 4.923654  \n",
       "\n",
       "[5 rows x 33 columns]"
      ]
     },
     "execution_count": 7,
     "metadata": {},
     "output_type": "execute_result"
    }
   ],
   "source": [
    "# joining initial date feature with enriched features found using upgini\n",
    "enriched_train_features = enricher.transform(train_features, keep_input = True)\n",
    "enriched_test_features = enricher.transform(test_features, keep_input = True)\n",
    "enriched_train_features.head()"
   ]
  },
  {
   "cell_type": "markdown",
   "id": "4d1b6920",
   "metadata": {
    "papermill": {
     "duration": 0.110188,
     "end_time": "2023-06-17T15:44:50.067865",
     "exception": false,
     "start_time": "2023-06-17T15:44:49.957677",
     "status": "completed"
    },
    "tags": []
   },
   "source": [
    "## <div style=\"color:white;display:fill;border-radius:5px;background-color:#9DCDD1;overflow:hidden\"><p style=\"padding:20px;color:white;overflow:hidden;font-size:100%;letter-spacing:0.5px;margin:0\"><b>6 | Performance and Evaluation</b></div>"
   ]
  },
  {
   "cell_type": "code",
   "execution_count": 8,
   "id": "d8000fd9",
   "metadata": {
    "execution": {
     "iopub.execute_input": "2023-06-17T15:44:50.298063Z",
     "iopub.status.busy": "2023-06-17T15:44:50.297657Z",
     "iopub.status.idle": "2023-06-17T15:44:52.686300Z",
     "shell.execute_reply": "2023-06-17T15:44:52.685382Z"
    },
    "papermill": {
     "duration": 2.501969,
     "end_time": "2023-06-17T15:44:52.688653",
     "exception": false,
     "start_time": "2023-06-17T15:44:50.186684",
     "status": "completed"
    },
    "tags": []
   },
   "outputs": [
    {
     "data": {
      "text/plain": [
       "[37.65141857448004]"
      ]
     },
     "execution_count": 8,
     "metadata": {},
     "output_type": "execute_result"
    }
   ],
   "source": [
    "# baseline data - performance analysis\n",
    "model.fit(train_features, train_target)\n",
    "preds = model.predict(test_features)\n",
    "eval_metric(test_target.values, preds, \"SMAPE\")"
   ]
  },
  {
   "cell_type": "code",
   "execution_count": 9,
   "id": "ed2778c7",
   "metadata": {
    "execution": {
     "iopub.execute_input": "2023-06-17T15:44:52.912812Z",
     "iopub.status.busy": "2023-06-17T15:44:52.912143Z",
     "iopub.status.idle": "2023-06-17T15:45:03.400106Z",
     "shell.execute_reply": "2023-06-17T15:45:03.399119Z"
    },
    "papermill": {
     "duration": 10.602342,
     "end_time": "2023-06-17T15:45:03.402673",
     "exception": false,
     "start_time": "2023-06-17T15:44:52.800331",
     "status": "completed"
    },
    "tags": []
   },
   "outputs": [
    {
     "data": {
      "text/plain": [
       "[14.681142656550785]"
      ]
     },
     "execution_count": 9,
     "metadata": {},
     "output_type": "execute_result"
    }
   ],
   "source": [
    "# enriched data - performance analysis\n",
    "model.fit(enriched_train_features, train_target)\n",
    "enriched_preds = model.predict(enriched_test_features)\n",
    "eval_metric(test_target.values, enriched_preds, \"SMAPE\")"
   ]
  },
  {
   "cell_type": "markdown",
   "id": "951b0315",
   "metadata": {
    "papermill": {
     "duration": 0.111063,
     "end_time": "2023-06-17T15:45:03.625849",
     "exception": false,
     "start_time": "2023-06-17T15:45:03.514786",
     "status": "completed"
    },
    "tags": []
   },
   "source": [
    "By using our enriched features created using Upgini we were able to achieve an increase in performance."
   ]
  }
 ],
 "metadata": {
  "kernelspec": {
   "display_name": "Python 3",
   "language": "python",
   "name": "python3"
  },
  "language_info": {
   "codemirror_mode": {
    "name": "ipython",
    "version": 3
   },
   "file_extension": ".py",
   "mimetype": "text/x-python",
   "name": "python",
   "nbconvert_exporter": "python",
   "pygments_lexer": "ipython3",
   "version": "3.7.12"
  },
  "papermill": {
   "default_parameters": {},
   "duration": 546.950298,
   "end_time": "2023-06-17T15:45:04.860490",
   "environment_variables": {},
   "exception": null,
   "input_path": "__notebook__.ipynb",
   "output_path": "__notebook__.ipynb",
   "parameters": {},
   "start_time": "2023-06-17T15:35:57.910192",
   "version": "2.3.4"
  }
 },
 "nbformat": 4,
 "nbformat_minor": 5
}
